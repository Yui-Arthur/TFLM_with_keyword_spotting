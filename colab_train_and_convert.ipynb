{
 "cells": [
  {
   "attachments": {},
   "cell_type": "markdown",
   "metadata": {},
   "source": [
    "## clone repo & download dataset"
   ]
  },
  {
   "cell_type": "code",
   "execution_count": null,
   "metadata": {},
   "outputs": [],
   "source": [
    "!git clone https://github.com/Yui-Arthur/TFLM_with_keyword_spotting.git\n",
    "%cd TFLM_with_keyword_spotting"
   ]
  },
  {
   "cell_type": "code",
   "execution_count": null,
   "metadata": {},
   "outputs": [],
   "source": [
    "!mkdir speech_commands\n",
    "!wget http://download.tensorflow.org/data/speech_commands_v0.02.tar.gz\n",
    "!tar -C speech_commands -zxvf speech_commands_v0.02.tar.gz > /dev/null"
   ]
  },
  {
   "attachments": {},
   "cell_type": "markdown",
   "metadata": {},
   "source": [
    "## training"
   ]
  },
  {
   "cell_type": "code",
   "execution_count": null,
   "metadata": {},
   "outputs": [],
   "source": [
    "from pathlib import Path\n",
    "from tqdm import tqdm\n",
    "import numpy as np\n",
    "import logging\n",
    "import sys   \n",
    "import matplotlib.pyplot as plt\n",
    "import random\n",
    "import tensorflow as tf\n",
    "from train_and_convert_utils import logger_setting , google_speech_commands_dataset , show_train_results , testing_model , train_one_epoch , conv_model\n"
   ]
  },
  {
   "cell_type": "code",
   "execution_count": null,
   "metadata": {},
   "outputs": [],
   "source": [
    "input_dim = (16000,1)\n",
    "wav_size = 16000\n",
    "output_class = 35\n",
    "# hyperparameter\n",
    "epochs = 10\n",
    "batch_size = 64\n",
    "learning_rate = 1e-3\n",
    "\n",
    "# path & logger setting\n",
    "speech_commands_root_folder = Path(\"./speech_commands\")\n",
    "root_folder = Path(\"train\")\n",
    "logger : logging.Logger = logger_setting(root_folder , \"colab\")"
   ]
  },
  {
   "cell_type": "code",
   "execution_count": null,
   "metadata": {},
   "outputs": [],
   "source": [
    "# model init\n",
    "model = conv_model(input_dim , output_class , learning_rate)\n",
    "model.build((batch_size,16000,1))\n",
    "model._model.summary()\n",
    "# exit()\n",
    "# logger.info(f\"Model Parameters : {num_params}\")\n",
    "\n",
    "# get dataloader\n",
    "# train_dataloader , valid_dataloader , test_dataloader = google_speech_commands_dataset(speech_commands_root_folder, wav_size, batch_size ,logger , load_in_memory=True)\n",
    "train_dataloader , valid_dataloader , test_dataloader = google_speech_commands_dataset(speech_commands_root_folder, wav_size, batch_size , logger, (64,64,64))\n",
    "\n",
    "# train / valid\n",
    "train_info = []\n",
    "max_acc = -1\n",
    "for epoch in range(epochs):\n",
    "    logger.info(f\"epoch {epoch} :\")\n",
    "    epoch_info = train_one_epoch(model , train_dataloader , valid_dataloader , max_acc , logger , root_folder)\n",
    "    train_info.append(list(epoch_info))\n",
    "    max_acc = max(epoch_info[2] ,max_acc)\n",
    "\n",
    "# show train the result    \n",
    "show_train_results(train_info , root_folder)\n",
    "\n",
    "del train_dataloader , valid_dataloader , test_dataloader , model"
   ]
  },
  {
   "attachments": {},
   "cell_type": "markdown",
   "metadata": {},
   "source": [
    "## convert and testing"
   ]
  },
  {
   "cell_type": "code",
   "execution_count": null,
   "metadata": {},
   "outputs": [],
   "source": [
    "from train_and_convert_utils import save_model_tflite_quant , test_tflite_model\n",
    "\n",
    "# test keras model\n",
    "_, _, test_dataset = google_speech_commands_dataset(speech_commands_root_folder , wav_size, batch_size, logger, (1,1,int(1e9)), True)\n",
    "testing_model(test_dataset , logger , root_dir=root_folder)\n",
    "del _, test_dataset\n",
    "\n",
    "# # test the tflite model\n",
    "_, _, test_dataset = google_speech_commands_dataset(speech_commands_root_folder , wav_size, 1, logger, (1,1,int(1e9)), True)\n",
    "save_model_tflite_quant(root_folder / \"model\", test_dataset, logger)\n",
    "test_tflite_model(root_folder / \"model\" / \"float_model.tflite\", test_dataset , logger)\n",
    "test_tflite_model(root_folder / \"model\" / \"quant_model.tflite\", test_dataset , logger)\n",
    "del _, test_dataset"
   ]
  }
 ],
 "metadata": {
  "kernelspec": {
   "display_name": "torch",
   "language": "python",
   "name": "python3"
  },
  "language_info": {
   "codemirror_mode": {
    "name": "ipython",
    "version": 3
   },
   "file_extension": ".py",
   "mimetype": "text/x-python",
   "name": "python",
   "nbconvert_exporter": "python",
   "pygments_lexer": "ipython3",
   "version": "3.10.13"
  },
  "orig_nbformat": 4
 },
 "nbformat": 4,
 "nbformat_minor": 2
}
